{
 "cells": [
  {
   "cell_type": "markdown",
   "id": "c688b9c4",
   "metadata": {},
   "source": [
    "# **Amazon Lookout for Equipment**\n",
    "*Part 3 - Model training*"
   ]
  },
  {
   "cell_type": "markdown",
   "id": "99aeee28",
   "metadata": {},
   "source": [
    "### Notebook configuration update\n",
    "Let's make sure that we have access to the latest version of the AWS Python packages. If you see a `pip` dependency error, check that the `boto3` version is ok: if it's greater than 1.17.48 (the first version that includes the `lookoutequipment` API), you can discard this error and move forward with the next cell:"
   ]
  },
  {
   "cell_type": "code",
   "execution_count": null,
   "id": "f1a95b39",
   "metadata": {},
   "outputs": [
    {
     "name": "stdout",
     "output_type": "stream",
     "text": [
      "boto3 version: 1.18.28 (should be >= 1.17.48 to include Lookout for Equipment API)\n"
     ]
    },
    {
     "data": {
      "text/html": [
       "<script>Jupyter.notebook.kernel.restart()</script>"
      ],
      "text/plain": [
       "<IPython.core.display.HTML object>"
      ]
     },
     "execution_count": 1,
     "metadata": {},
     "output_type": "execute_result"
    }
   ],
   "source": [
    "import boto3\n",
    "print(f'boto3 version: {boto3.__version__} (should be >= 1.17.48 to include Lookout for Equipment API)')\n",
    "\n",
    "# Restart the current notebook to ensure we take into account the previous updates:\n",
    "from IPython.core.display import HTML\n",
    "HTML(\"<script>Jupyter.notebook.kernel.restart()</script>\")"
   ]
  },
  {
   "cell_type": "markdown",
   "id": "34776cb9",
   "metadata": {},
   "source": [
    "### Imports"
   ]
  },
  {
   "cell_type": "code",
   "execution_count": 1,
   "id": "14d20e92",
   "metadata": {},
   "outputs": [],
   "source": [
    "import config\n",
    "import os\n",
    "import pandas as pd\n",
    "import sagemaker\n",
    "import sys\n",
    "import boto3\n",
    "# Helper functions for managing Lookout for Equipment API calls:\n",
    "sys.path.append('../utils')\n",
    "import lookout_equipment_utils as lookout"
   ]
  },
  {
   "cell_type": "code",
   "execution_count": 2,
   "id": "942cbffc",
   "metadata": {},
   "outputs": [],
   "source": [
    "ROLE_ARN     = sagemaker.get_execution_role()\n",
    "REGION_NAME  = boto3.session.Session().region_name\n",
    "BUCKET       = config.BUCKET\n",
    "PREFIX       = config.PREFIX_LABEL\n",
    "DATASET_NAME = config.DATASET_NAME\n",
    "MODEL_NAME   = config.MODEL_NAME"
   ]
  },
  {
   "cell_type": "markdown",
   "id": "41bec3fe",
   "metadata": {},
   "source": [
    "Based on the label time ranges, we will use the following time ranges:\n",
    "\n",
    "* **Train set:** 1st January 2019 - 31st July 2019: Lookout for Equipment needs at least 180 days of training data and this period contains a few labelled ranges with some anomalies.\n",
    "* **Evaluation set:** 1st August 2019 - 27th October 2019 *(this test set includes both normal and abnormal data to evaluate our model on)*"
   ]
  },
  {
   "cell_type": "code",
   "execution_count": 3,
   "id": "3f50fb2a",
   "metadata": {},
   "outputs": [
    {
     "name": "stdout",
     "output_type": "stream",
     "text": [
      "  Training period | from 2019-01-01 00:00:00 to 2019-07-31 00:00:00\n",
      "Evaluation period | from 2019-08-01 00:00:00 to 2019-10-27 00:00:00\n"
     ]
    }
   ],
   "source": [
    "# Configuring time ranges:\n",
    "training_start   = pd.to_datetime('2019-01-01 00:00:00')\n",
    "training_end     = pd.to_datetime('2019-07-31 00:00:00')\n",
    "evaluation_start = pd.to_datetime('2019-08-01 00:00:00')\n",
    "evaluation_end   = pd.to_datetime('2019-10-27 00:00:00')\n",
    "\n",
    "print(f'  Training period | from {training_start} to {training_end}')\n",
    "print(f'Evaluation period | from {evaluation_start} to {evaluation_end}')"
   ]
  },
  {
   "cell_type": "markdown",
   "id": "0b1283d6",
   "metadata": {},
   "source": [
    "## Model training\n",
    "---"
   ]
  },
  {
   "cell_type": "code",
   "execution_count": 4,
   "id": "7ca15cb3",
   "metadata": {},
   "outputs": [],
   "source": [
    "# Prepare the model parameters:\n",
    "lookout_model = lookout.LookoutEquipmentModel(model_name=MODEL_NAME,\n",
    "                                              dataset_name=DATASET_NAME,\n",
    "                                              region_name=REGION_NAME)\n",
    "\n",
    "# Set the training / evaluation split date:\n",
    "lookout_model.set_time_periods(evaluation_start,\n",
    "                               evaluation_end,\n",
    "                               training_start,\n",
    "                               training_end)\n",
    "\n",
    "# Set the label data location:\n",
    "lookout_model.set_label_data(bucket=BUCKET, \n",
    "                             prefix=PREFIX,\n",
    "                             access_role_arn=ROLE_ARN)\n",
    "\n",
    "# This sets up the rate the service will resample the data before \n",
    "# training: we will keep the original sampling rate in this example\n",
    "# (5 minutes), but feel free to use a larger sampling rate to accelerate \n",
    "# the training time:\n",
    "\n",
    "# lookout_model.set_target_sampling_rate(sampling_rate='PT15M')"
   ]
  },
  {
   "cell_type": "markdown",
   "id": "ba900209",
   "metadata": {},
   "source": [
    "The following method encapsulates a call to the [**CreateModel**](https://docs.aws.amazon.com/lookout-for-equipment/latest/ug/API_CreateModel.html) API:"
   ]
  },
  {
   "cell_type": "code",
   "execution_count": 5,
   "id": "52f555a9",
   "metadata": {},
   "outputs": [
    {
     "data": {
      "text/plain": [
       "{'ModelArn': 'arn:aws:lookoutequipment:us-east-1:593512547852:model/27b53ba8-baa0-4298-809a-0afe9384c280-model/dbd392aa-28d0-47a9-8b7a-4b44a4eafeae',\n",
       " 'Status': 'IN_PROGRESS',\n",
       " 'ResponseMetadata': {'RequestId': '74ab2edd-6904-4fb6-bd66-62ab22304599',\n",
       "  'HTTPStatusCode': 200,\n",
       "  'HTTPHeaders': {'x-amzn-requestid': '74ab2edd-6904-4fb6-bd66-62ab22304599',\n",
       "   'content-type': 'application/x-amz-json-1.0',\n",
       "   'content-length': '171',\n",
       "   'date': 'Fri, 03 Sep 2021 02:49:51 GMT'},\n",
       "  'RetryAttempts': 0}}"
      ]
     },
     "execution_count": 5,
     "metadata": {},
     "output_type": "execute_result"
    }
   ],
   "source": [
    "# Actually create the model and train it:\n",
    "lookout_model.train()"
   ]
  },
  {
   "cell_type": "markdown",
   "id": "dfaa02ac",
   "metadata": {},
   "source": [
    "A training is now in progress as captured by the console:\n",
    "    \n",
    "![Training in progress](assets/create-model-training-in-progress.png)\n",
    "\n",
    "Use the following cell to capture the model training progress. **This model should take around 30-45 minutes to be trained.** Key drivers for training time usually are:\n",
    "* **Number of labels** in the label dataset (if provided)\n",
    "* Number of datapoints: this number depends on the **sampling rate**, the **number of time series** and the **time range**.\n",
    "\n",
    "The following method encapsulate a call to the [**DescribeModel**](https://docs.aws.amazon.com/lookout-for-equipment/latest/ug/API_DescribeModel.html) API and collect the model progress by looking at the `Status` field retrieved from this call:"
   ]
  },
  {
   "cell_type": "code",
   "execution_count": 6,
   "id": "9670c2ae",
   "metadata": {},
   "outputs": [
    {
     "name": "stdout",
     "output_type": "stream",
     "text": [
      "2021-09-03 02:50:53 | Model training: IN_PROGRESS\n",
      "2021-09-03 02:51:53 | Model training: IN_PROGRESS\n",
      "2021-09-03 02:52:53 | Model training: IN_PROGRESS\n",
      "2021-09-03 02:53:53 | Model training: IN_PROGRESS\n",
      "2021-09-03 02:54:53 | Model training: IN_PROGRESS\n",
      "2021-09-03 02:55:53 | Model training: IN_PROGRESS\n",
      "2021-09-03 02:56:53 | Model training: IN_PROGRESS\n",
      "2021-09-03 02:57:53 | Model training: IN_PROGRESS\n",
      "2021-09-03 02:58:54 | Model training: IN_PROGRESS\n",
      "2021-09-03 02:59:54 | Model training: IN_PROGRESS\n",
      "2021-09-03 03:00:54 | Model training: IN_PROGRESS\n",
      "2021-09-03 03:01:54 | Model training: IN_PROGRESS\n",
      "2021-09-03 03:02:54 | Model training: IN_PROGRESS\n",
      "2021-09-03 03:03:54 | Model training: IN_PROGRESS\n",
      "2021-09-03 03:04:55 | Model training: IN_PROGRESS\n",
      "2021-09-03 03:05:55 | Model training: IN_PROGRESS\n",
      "2021-09-03 03:06:55 | Model training: IN_PROGRESS\n",
      "2021-09-03 03:07:55 | Model training: IN_PROGRESS\n",
      "2021-09-03 03:08:55 | Model training: IN_PROGRESS\n",
      "2021-09-03 03:09:56 | Model training: IN_PROGRESS\n",
      "2021-09-03 03:10:56 | Model training: IN_PROGRESS\n",
      "2021-09-03 03:11:56 | Model training: IN_PROGRESS\n",
      "2021-09-03 03:12:56 | Model training: IN_PROGRESS\n",
      "2021-09-03 03:13:56 | Model training: IN_PROGRESS\n",
      "2021-09-03 03:14:57 | Model training: IN_PROGRESS\n",
      "2021-09-03 03:15:57 | Model training: IN_PROGRESS\n",
      "2021-09-03 03:16:57 | Model training: IN_PROGRESS\n",
      "2021-09-03 03:17:57 | Model training: IN_PROGRESS\n",
      "2021-09-03 03:18:57 | Model training: IN_PROGRESS\n",
      "2021-09-03 03:19:57 | Model training: IN_PROGRESS\n",
      "2021-09-03 03:20:57 | Model training: SUCCESS\n"
     ]
    }
   ],
   "source": [
    "lookout_model.poll_model_training(sleep_time=60)"
   ]
  },
  {
   "cell_type": "markdown",
   "id": "bb3acc36",
   "metadata": {},
   "source": [
    "A model is now trained and we can visualize the results of the back testing on the evaluation window selected at the beginning on this notebook:\n",
    "\n",
    "![Training complete](assets/model-performance.png)"
   ]
  },
  {
   "cell_type": "markdown",
   "id": "925a4410",
   "metadata": {},
   "source": [
    "In the console, **you can click on each detected event**: Amazon Lookout for Equipment unpacks the ranking and display the top sensors contributing to the detected events.\n",
    "\n",
    "When you open this window, the first event is already selected and this is the detailed view you will get from the console:\n",
    "\n",
    "![Event details](assets/model-diagnostics.png)"
   ]
  },
  {
   "cell_type": "markdown",
   "id": "49759d45",
   "metadata": {},
   "source": [
    "This dataset contains 30 sensors:\n",
    "* If each sensor contributed the same way to this event, every sensors would **equally contribute** to this event (said otherwise, every sensor would have a similar feature importance of `100% / 30 = 3.33%`).\n",
    "* The top sensors (e.g. **Sensor19** with a **5.67% importance**) have a contribution that is significantly higher than this threshold, which is statistically relevant.\n",
    "* If the model continues outputing detected anomalies with a similar ranking, this might push a maintenance operator to go and have a look at the associated components."
   ]
  },
  {
   "cell_type": "markdown",
   "id": "e0ab0448",
   "metadata": {},
   "source": [
    "## Conclusion\n",
    "---"
   ]
  },
  {
   "cell_type": "code",
   "execution_count": 7,
   "id": "f66e820b",
   "metadata": {},
   "outputs": [
    {
     "data": {
      "text/markdown": [
       "\n",
       "<span style=\"color:green\"><span style=\"font-size:50px\">**Success!**</span></span>\n",
       "<br/>\n",
       "In this notebook, we use the dataset created in part 2 of this notebook series and trained an Amazon Lookout for Equipment model.\n",
       "\n",
       "From here you can either head:\n",
       "* To the next notebook where we will **extract the evaluation data** for this model and use it to perform further analysis on the model results: this is optional and just gives you some pointers on how to post-process and visualize the data provided by Amazon Lookout for Equipment.\n",
       "* Or to the **inference scheduling notebook** where we will start the model, feed it some new data and catch the results.\n"
      ],
      "text/plain": [
       "<IPython.core.display.Markdown object>"
      ]
     },
     "metadata": {},
     "output_type": "display_data"
    }
   ],
   "source": [
    "# Needed for visualizing markdowns programatically\n",
    "from IPython.display import display, Markdown\n",
    "\n",
    "display(Markdown(\n",
    "'''\n",
    "<span style=\"color:green\"><span style=\"font-size:50px\">**Success!**</span></span>\n",
    "<br/>\n",
    "In this notebook, we use the dataset created in part 2 of this notebook series and trained an Amazon Lookout for Equipment model.\n",
    "\n",
    "From here you can either head:\n",
    "* To the next notebook where we will **extract the evaluation data** for this model and use it to perform further analysis on the model results: this is optional and just gives you some pointers on how to post-process and visualize the data provided by Amazon Lookout for Equipment.\n",
    "* Or to the **inference scheduling notebook** where we will start the model, feed it some new data and catch the results.\n",
    "'''))"
   ]
  },
  {
   "cell_type": "code",
   "execution_count": null,
   "id": "8e094164",
   "metadata": {},
   "outputs": [],
   "source": []
  }
 ],
 "metadata": {
  "kernelspec": {
   "display_name": "conda_python3",
   "language": "python",
   "name": "conda_python3"
  },
  "language_info": {
   "codemirror_mode": {
    "name": "ipython",
    "version": 3
   },
   "file_extension": ".py",
   "mimetype": "text/x-python",
   "name": "python",
   "nbconvert_exporter": "python",
   "pygments_lexer": "ipython3",
   "version": "3.6.13"
  }
 },
 "nbformat": 4,
 "nbformat_minor": 5
}
