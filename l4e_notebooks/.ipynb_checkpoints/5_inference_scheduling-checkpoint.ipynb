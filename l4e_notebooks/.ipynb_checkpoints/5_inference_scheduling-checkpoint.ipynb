{
 "cells": [
  {
   "cell_type": "markdown",
   "metadata": {},
   "source": [
    "# **Amazon Lookout for Equipment**\n",
    "*Part 5 - Scheduling regular inference calls*"
   ]
  },
  {
   "cell_type": "markdown",
   "metadata": {},
   "source": [
    "### Notebook configuration update\n",
    "Let's make sure that we have access to the latest version of the AWS Python packages. If you see a `pip` dependency error, check that the `boto3` version is ok: if it's greater than 1.17.48 (the first version that includes the `lookoutequipment` API), you can discard this error and move forward with the next cell:"
   ]
  },
  {
   "cell_type": "code",
   "execution_count": null,
   "metadata": {},
   "outputs": [],
   "source": [
    "import boto3\n",
    "print(f'boto3 version: {boto3.__version__} (should be >= 1.17.48 to include Lookout for Equipment API)')\n",
    "\n",
    "# Restart the current notebook to ensure we take into account the previous updates:\n",
    "from IPython.core.display import HTML\n",
    "HTML(\"<script>Jupyter.notebook.kernel.restart()</script>\")"
   ]
  },
  {
   "cell_type": "markdown",
   "metadata": {},
   "source": [
    "### Imports"
   ]
  },
  {
   "cell_type": "code",
   "execution_count": null,
   "metadata": {},
   "outputs": [],
   "source": [
    "import config\n",
    "import datetime\n",
    "import matplotlib.pyplot as plt\n",
    "import matplotlib.ticker as mtick\n",
    "import numpy as np\n",
    "import os\n",
    "import pandas as pd\n",
    "import pytz\n",
    "import sagemaker\n",
    "import sys\n",
    "import time\n",
    "\n",
    "# Helper functions for managing Lookout for Equipment API calls:\n",
    "sys.path.append('../utils')\n",
    "import lookout_equipment_utils as lookout"
   ]
  },
  {
   "cell_type": "markdown",
   "metadata": {},
   "source": [
    "### Parameters"
   ]
  },
  {
   "cell_type": "code",
   "execution_count": null,
   "metadata": {},
   "outputs": [],
   "source": [
    "ROLE_ARN                 = sagemaker.get_execution_role()\n",
    "REGION_NAME              = boto3.session.Session().region_name\n",
    "BUCKET                   = config.BUCKET\n",
    "PREFIX                   = config.PREFIX_INFERENCE\n",
    "INFERENCE_SCHEDULER_NAME = config.INFERENCE_SCHEDULER_NAME\n",
    "MODEL_NAME               = config.MODEL_NAME\n",
    "ASSET_ID                 = config.ASSET_ID\n",
    "\n",
    "TMP_DATA       = os.path.join('..', 'data', 'interim', ASSET_ID)\n",
    "PROCESSED_DATA = os.path.join('..', 'data', 'processed', ASSET_ID)\n",
    "INFERENCE_DATA = os.path.join(PROCESSED_DATA, 'inference-data')\n",
    "TRAIN_DATA     = os.path.join(PROCESSED_DATA, 'training-data', 'centrifugal-pump')\n",
    "\n",
    "os.makedirs(INFERENCE_DATA, exist_ok=True)\n",
    "os.makedirs(os.path.join(INFERENCE_DATA, 'input'), exist_ok=True)\n",
    "os.makedirs(os.path.join(INFERENCE_DATA, 'output'), exist_ok=True)\n",
    "\n",
    "%matplotlib inline\n",
    "plt.style.use('Solarize_Light2')\n",
    "plt.rcParams['lines.linewidth'] = 0.5"
   ]
  },
  {
   "cell_type": "markdown",
   "metadata": {},
   "source": [
    "## Create an inference scheduler\n",
    "---\n",
    "While navigating to the model details part of the console, you will see that you have no inference scheduled yet:\n",
    "\n",
    "![Schedule Starting point](assets/schedule_start.png)"
   ]
  },
  {
   "cell_type": "markdown",
   "metadata": {},
   "source": [
    "### Scheduler configuration\n",
    "Let's create a new inference schedule: some parameters are mandatory, while others offer some added flexibility.\n",
    "\n",
    "#### Parameters\n",
    "\n",
    "* Set `DATA_UPLOAD_FREQUENCY` at which the data will be uploaded for inference. Allowed values are `PT5M`, `PT10M`, `PT15M`, `PT30M` and `PT1H`.\n",
    "  * This is both the frequency of the inference scheduler and how often data are uploaded to the source bucket.\n",
    "  *  **Note**: ***the upload frequency must be compatible with the sampling rate selected at training time.*** *For example, if a model was trained with a 30 minutes resampling, asking for 5 minutes won't work and you need to select either PT30M and PT1H for this parameter at inference time.*\n",
    "* Set `INFERENCE_DATA_SOURCE_BUCKET` to the S3 bucket of your inference data\n",
    "* Set `INFERENCE_DATA_SOURCE_PREFIX` to the S3 prefix of your inference data\n",
    "* Set `INFERENCE_DATA_OUTPUT_BUCKET` to the S3 bucket where you want inference results\n",
    "* Set `INFERENCE_DATA_OUTPUT_PREFIX` to the S3 prefix where you want inference results\n",
    "* Set `ROLE_ARN_FOR_INFERENCE` to the role to be used to **read** data to infer on and **write** inference output"
   ]
  },
  {
   "cell_type": "code",
   "execution_count": null,
   "metadata": {},
   "outputs": [],
   "source": [
    "# Name of the model on which you want to create this inference scheduler\n",
    "MODEL_NAME_FOR_CREATING_INFERENCE_SCHEDULER = MODEL_NAME\n",
    "\n",
    "# Mandatory parameters:\n",
    "INFERENCE_DATA_SOURCE_BUCKET = BUCKET\n",
    "INFERENCE_DATA_SOURCE_PREFIX = f'{PREFIX}/input/'\n",
    "INFERENCE_DATA_OUTPUT_BUCKET = BUCKET\n",
    "INFERENCE_DATA_OUTPUT_PREFIX = f'{PREFIX}/output/'\n",
    "ROLE_ARN_FOR_INFERENCE = ROLE_ARN\n",
    "DATA_UPLOAD_FREQUENCY = 'PT5M'"
   ]
  },
  {
   "cell_type": "markdown",
   "metadata": {},
   "source": [
    "#### Time zone parameter (optional)\n",
    "\n",
    "You can set `INPUT_TIMEZONE_OFFSET` to the following allowed values: `+00:00`, `+00:30`, `+01:00`, ... `+11:30`, `+12:00`, `-00:00`, `-00:30`, `-01:00`, ... `-11:30`, `-12:00`.\n",
    "\n",
    "This is the timezone the scheduler will use to find the input files to run inference for. A timezone's offset refers to how many hours the timezone is from Coordinated Universal Time (UTC).\n",
    "\n",
    "Let's take an example:\n",
    "* The current date April 5th, 2021 and time is 1pm UTC\n",
    "* You're in India, which is 5 hour 30 ahead of UTC and you set the `INPUT_TIMEZONE_OFFSET` to `+05:30`\n",
    "* If the scheduler wakes up at 1pm UTC, A filename called 20210405**1830**00 will be found (1pm + 5H30 = 6.30pm)\n",
    "\n",
    "Use the following cell to convert time zone identifier (`Europe/Paris`, `US/Central`...) to a time zone offset. You can build a timezone object by leveraging the World Timezone Definition **[available here](https://gist.github.com/heyalexej/8bf688fd67d7199be4a1682b3eec7568)** or by listing the available ones using this code snippet:\n",
    "```python\n",
    "import pytz\n",
    "for tz in pytz.all_timezones:\n",
    "    print tz\n",
    "```\n",
    "If you want to use universal time, replace the timezone string below (`Asia/Calcutta`) by `UTC`:"
   ]
  },
  {
   "cell_type": "code",
   "execution_count": null,
   "metadata": {},
   "outputs": [],
   "source": [
    "utc_timezone = pytz.timezone(\"UTC\")\n",
    "\n",
    "current_timezone = pytz.timezone(\"Asia/Calcutta\")\n",
    "tz_offset = datetime.datetime.now(current_timezone).strftime('%z')\n",
    "INPUT_TIMEZONE_OFFSET = tz_offset[:3] + ':' + tz_offset[3:]"
   ]
  },
  {
   "cell_type": "markdown",
   "metadata": {},
   "source": [
    "#### Other optional parameters\n",
    "\n",
    "* Set `DATA_DELAY_OFFSET_IN_MINUTES` to the number of minutes you expect the data to be delayed to upload. It's a time buffer to upload data.\n",
    "* Set `TIMESTAMP_FORMAT`. The allowed values `EPOCH`, `yyyy-MM-dd-HH-mm-ss` or `yyyyMMddHHmmss`. This is the format of timestamp which is the suffix of the input data file name. This is used by Lookout Equipment to understand which files to run inference on (so that you don't need to remove previous files to let the scheduler finds which one to run on).\n",
    "* Set `COMPONENT_TIMESTAMP_DELIMITER`. The allowed values `-`, `_` or ` `. This is the delimiter character that is used to separate the component from the timestamp in the input filename."
   ]
  },
  {
   "cell_type": "code",
   "execution_count": null,
   "metadata": {},
   "outputs": [],
   "source": [
    "DATA_DELAY_OFFSET_IN_MINUTES = 2\n",
    "COMPONENT_TIMESTAMP_DELIMITER = '_'\n",
    "TIMESTAMP_FORMAT = 'yyyyMMddHHmmss'"
   ]
  },
  {
   "cell_type": "markdown",
   "metadata": {},
   "source": [
    "### Create the inference scheduler\n",
    "The CreateInferenceScheduler API creates a scheduler **and** starts it: this means that this starts costing you right away. However, you can stop and start an existing scheduler at will (see at the end of this notebook):"
   ]
  },
  {
   "cell_type": "code",
   "execution_count": null,
   "metadata": {},
   "outputs": [],
   "source": [
    "scheduler = lookout.LookoutEquipmentScheduler(\n",
    "    scheduler_name=INFERENCE_SCHEDULER_NAME,\n",
    "    model_name=MODEL_NAME_FOR_CREATING_INFERENCE_SCHEDULER,\n",
    "    region_name=REGION_NAME\n",
    ")\n",
    "\n",
    "scheduler_params = {\n",
    "    'input_bucket': INFERENCE_DATA_SOURCE_BUCKET,\n",
    "    'input_prefix': INFERENCE_DATA_SOURCE_PREFIX,\n",
    "    'output_bucket': INFERENCE_DATA_OUTPUT_BUCKET,\n",
    "    'output_prefix': INFERENCE_DATA_OUTPUT_PREFIX,\n",
    "    'role_arn': ROLE_ARN_FOR_INFERENCE,\n",
    "    'upload_frequency': DATA_UPLOAD_FREQUENCY,\n",
    "    'delay_offset': DATA_DELAY_OFFSET_IN_MINUTES,\n",
    "    'timezone_offset': INPUT_TIMEZONE_OFFSET,\n",
    "    'component_delimiter': COMPONENT_TIMESTAMP_DELIMITER,\n",
    "    'timestamp_format': TIMESTAMP_FORMAT\n",
    "}\n",
    "\n",
    "scheduler.set_parameters(**scheduler_params)"
   ]
  },
  {
   "cell_type": "markdown",
   "metadata": {},
   "source": [
    "## Prepare the inference data\n",
    "---\n",
    "Let's prepare and send some data in the S3 input location our scheduler will monitor: we are going to extract 10 sequences of 5 minutes each (5 minutes being the minimum scheduler frequency). We assume that data are sampled at a rate of one data point per minute meaning that each sequence will be a CSV with 5 rows (to match the scheduler frequency). We have set aside a file we can use for inference. We need to update the timestamps to match the current time and date and then split the file in individual datasets of 5 rows each."
   ]
  },
  {
   "cell_type": "code",
   "execution_count": null,
   "metadata": {},
   "outputs": [],
   "source": [
    "'''\n",
    "# Load the original inference data:\n",
    "inference_fname = os.path.join(TMP_DATA, 'inference-data', 'inference.csv')\n",
    "inference_df = pd.read_csv(inference_fname)\n",
    "inference_df['Timestamp'] = pd.to_datetime(inference_df['Timestamp'])\n",
    "inference_df = inference_df.set_index('Timestamp')\n",
    "\n",
    "# How many sequences do we want to extract:\n",
    "num_sequences = 10\n",
    "\n",
    "# The scheduling frequency in minutes: this **MUST** match the\n",
    "# resampling rate used to train the model:\n",
    "frequency = 5\n",
    "start = inference_df.index.min()\n",
    "for i in range(num_sequences):\n",
    "    end = start + datetime.timedelta(minutes=+frequency - 1)\n",
    "    inference_input = inference_df.loc[start:end, :]\n",
    "    start = start + datetime.timedelta(minutes=+frequency)\n",
    "    \n",
    "    # Rounding time to the previous X minutes \n",
    "    # where X is the selected frequency:\n",
    "    filename_tm = datetime.datetime.now(current_timezone)\n",
    "    filename_tm = filename_tm - datetime.timedelta(\n",
    "        minutes=filename_tm.minute % frequency,\n",
    "        seconds=filename_tm.second,\n",
    "        microseconds=filename_tm.microsecond\n",
    "    )\n",
    "    filename_tm = filename_tm + datetime.timedelta(minutes=+frequency * (i))\n",
    "    current_timestamp = (filename_tm).strftime(format='%Y%m%d%H%M%S')\n",
    "    \n",
    "    # The timestamp inside the file are in UTC and are not linked to the current timezone:\n",
    "    timestamp_tm = datetime.datetime.now(utc_timezone)\n",
    "    timestamp_tm = timestamp_tm - datetime.timedelta(\n",
    "        minutes=timestamp_tm.minute % frequency,\n",
    "        seconds=timestamp_tm.second,\n",
    "        microseconds=timestamp_tm.microsecond\n",
    "    )\n",
    "    timestamp_tm = timestamp_tm + datetime.timedelta(minutes=+frequency * (i))\n",
    "    \n",
    "    # We need to reset the index to match the time \n",
    "    # at which the scheduler will run inference:\n",
    "    new_index = pd.date_range(\n",
    "        start=timestamp_tm,\n",
    "        periods=inference_input.shape[0], \n",
    "        freq='1min'\n",
    "    )\n",
    "    inference_input.index = new_index\n",
    "    inference_input.index.name = 'Timestamp'\n",
    "    inference_input = inference_input.reset_index()\n",
    "    inference_input['Timestamp'] = inference_input['Timestamp'].dt.strftime('%Y-%m-%dT%H:%M:%S.%f')\n",
    "    \n",
    "    # Export this file in CSV format:\n",
    "    scheduled_fname = os.path.join(INFERENCE_DATA, 'input', f'centrifugal-pump_{current_timestamp}.csv')\n",
    "    inference_input.to_csv(scheduled_fname, index=None)\n",
    "    \n",
    "# Upload the whole folder to S3, in the input location:\n",
    "!aws s3 cp --recursive --quiet $INFERENCE_DATA/input s3://$BUCKET/$PREFIX/input\n",
    "'''"
   ]
  },
  {
   "cell_type": "markdown",
   "metadata": {},
   "source": [
    "Our S3 bucket is now in the following state: this emulates what you could expect if your industrial information system was sending a new sample of data every five minutes.\n",
    "\n",
    "Note how:\n",
    "* Every files are located in the same folder\n",
    "* Each file has the recorded timestamp in its name\n",
    "* The timestamps are rounding to the closest 5 minutes (as our scheduler is configured to wake up every 5 minutes)\n",
    "\n",
    "![Inference input](assets/schedule_inference_s3_data.png)"
   ]
  },
  {
   "cell_type": "markdown",
   "metadata": {},
   "source": [
    "---"
   ]
  },
  {
   "cell_type": "markdown",
   "metadata": {},
   "source": [
    "Now, we can create the scheduler by running:\n",
    "\n",
    "```python\n",
    "create_scheduler_response = lookout_client.create_inference_scheduler({\n",
    "    'ClientToken': uuid.uuid4().hex\n",
    "})\n",
    "```\n",
    "\n",
    "The following method encapsulates the call to the [**CreateInferenceScheduler**](https://docs.aws.amazon.com/lookout-for-equipment/latest/ug/API_CreateInferenceScheduler.html) API:"
   ]
  },
  {
   "cell_type": "code",
   "execution_count": null,
   "metadata": {},
   "outputs": [],
   "source": [
    "\n",
    "create_scheduler_response = scheduler.create()"
   ]
  },
  {
   "cell_type": "markdown",
   "metadata": {},
   "source": [
    "Our scheduler is now running and its inference history is currently empty:\n",
    "\n",
    "![Scheduler created](assets/schedule_created.png)"
   ]
  },
  {
   "cell_type": "markdown",
   "metadata": {},
   "source": [
    "## Get inference results\n",
    "---"
   ]
  },
  {
   "cell_type": "markdown",
   "metadata": {},
   "source": [
    "### List inference executions"
   ]
  },
  {
   "cell_type": "markdown",
   "metadata": {},
   "source": [
    "**Let's now wait for 5-15 minutes to give some time to the scheduler to run its first inferences.** Once the wait is over, we can use the ListInferenceExecution API for our current inference scheduler. The only mandatory parameter is the scheduler name.\n",
    "\n",
    "You can also choose a time period for which you want to query inference executions for. If you don't specify it, then all executions for an inference scheduler will be listed. If you want to specify the time range, you can do this:\n",
    "\n",
    "```python\n",
    "START_TIME_FOR_INFERENCE_EXECUTIONS = datetime.datetime(2010,1,3,0,0,0)\n",
    "END_TIME_FOR_INFERENCE_EXECUTIONS = datetime.datetime(2010,1,5,0,0,0)\n",
    "```\n",
    "\n",
    "Which means the executions after `2010-01-03 00:00:00` and before `2010-01-05 00:00:00` will be listed.\n",
    "\n",
    "You can also choose to query for executions in particular status, the allowed status are `IN_PROGRESS`, `SUCCESS` and `FAILED`.\n",
    "\n",
    "The following cell use `scheduler.list_inference_executions()` as a wrapper around the [**ListInferenceExecutions**](https://docs.aws.amazon.com/lookout-for-equipment/latest/ug/API_ListInferenceExecutions.html) API:\n",
    "\n",
    "```python\n",
    "    list_executions_response = lookout_client.list_inference_executions({\n",
    "        \"MaxResults\": 50,\n",
    "        \"InferenceSchedulerName\": INFERENCE_SCHEDULER_NAME,\n",
    "        \"Status\": EXECUTION_STATUS,\n",
    "        \"DataStartTimeAfter\": START_TIME_FOR_INFERENCE_EXECUTIONS,\n",
    "        \"DataEndTimeBefore\": END_TIME_FOR_INFERENCE_EXECUTIONS\n",
    "    })\n",
    "```"
   ]
  },
  {
   "cell_type": "code",
   "execution_count": null,
   "metadata": {},
   "outputs": [],
   "source": [
    "START_TIME_FOR_INFERENCE_EXECUTIONS = None\n",
    "END_TIME_FOR_INFERENCE_EXECUTIONS = None\n",
    "EXECUTION_STATUS = None\n",
    "\n",
    "execution_summaries = []\n",
    "\n",
    "while len(execution_summaries) == 0:\n",
    "    execution_summaries = scheduler.list_inference_executions(\n",
    "        start_time=START_TIME_FOR_INFERENCE_EXECUTIONS,\n",
    "        end_time=END_TIME_FOR_INFERENCE_EXECUTIONS,\n",
    "        execution_status=EXECUTION_STATUS\n",
    "    )\n",
    "    if len(execution_summaries) == 0:\n",
    "        print('WAITING FOR THE FIRST INFERENCE EXECUTION')\n",
    "        time.sleep(60)\n",
    "        \n",
    "    else:\n",
    "        print('FIRST INFERENCE EXECUTED\\n')\n",
    "        break\n",
    "            \n",
    "execution_summaries"
   ]
  },
  {
   "cell_type": "markdown",
   "metadata": {},
   "source": [
    "We have configured this scheduler to run every five minutes. After at least 5 minutes we can also see the history in the console populated with its first few executions: after an hour or so, we will see that the last one failed as we only generated 10 files above and the scheduler did find the last one at the time it was fired:\n",
    "\n",
    "![Inference history](assets/schedule_inference_history.png)"
   ]
  },
  {
   "cell_type": "markdown",
   "metadata": {},
   "source": [
    "When the scheduler starts (for example at `datetime.datetime(2021, 1, 27, 9, 15)`, it looks for **a single** CSV file located in the input location with a filename that contains a timestamp set to the previous step. For example, a file named:\n",
    "\n",
    "* centrifugal-pump_2021012709**10**00.csv will be found and ingested\n",
    "* centrifugal-pump_2021012708**15**00.csv will **not be** ingested (it will be ingested at the next inference execution however)\n",
    "\n",
    "In addition, when opening the file `centrifugal-pump_20210127091000.csv`, it will look for any row with a date that is between the `DataStartTime` and the `DataEndTime` of the inference execution. If it doesn't find such a row, an exception will be thrown."
   ]
  },
  {
   "cell_type": "markdown",
   "metadata": {},
   "source": [
    "### Download inference results\n",
    "Let's have a look at the content now available in the scheduler output location: each inference execution creates a subfolder in the output directory. The subfolder name is the timestamp (GMT) at which the inference was executed and it contains a single [JSON lines](https://jsonlines.org/) file named `results.jsonl`:\n",
    "\n",
    "![Inference input](assets/schedule_inference_output_data.png)\n",
    "\n",
    "Each execution summary is a JSON document that has the following format:"
   ]
  },
  {
   "cell_type": "code",
   "execution_count": null,
   "metadata": {},
   "outputs": [],
   "source": [
    "execution_summaries[0]"
   ]
  },
  {
   "cell_type": "markdown",
   "metadata": {},
   "source": [
    "When the `Status` key from the previous JSON result is set to `SUCCESS`, you can collect the results location in the `CustomerResultObject` field. We are now going to loop through each execution result and download each JSON lines files generated by the scheduler. Then we will insert their results into an overall dataframe for further analysis:"
   ]
  },
  {
   "cell_type": "code",
   "execution_count": null,
   "metadata": {},
   "outputs": [],
   "source": [
    "# Fetch the list of execution summaries in case all executions were not captured yet:\n",
    "_ = scheduler.list_inference_executions()\n",
    "\n",
    "# Loops through the executions summaries:\n",
    "results_json = []\n",
    "for execution_summary in scheduler.execution_summaries:\n",
    "    print('.', end='')\n",
    "    \n",
    "    # We only get an output if the inference execution is a sucess:\n",
    "    status = execution_summary['Status']\n",
    "    if status == 'SUCCESS':\n",
    "        # Download the JSON-line file locally:\n",
    "        bucket = execution_summary['CustomerResultObject']['Bucket']\n",
    "        key = execution_summary['CustomerResultObject']['Key']\n",
    "        current_timestamp = key.split('/')[-2]\n",
    "        local_fname = os.path.join(INFERENCE_DATA, 'output', f'centrifugal-pump_{current_timestamp}.jsonl')\n",
    "        s3_fname = f's3://{bucket}/{key}'\n",
    "        \n",
    "        !aws s3 cp --quiet $s3_fname $local_fname\n",
    "        \n",
    "        # Opens the file and concatenate the results into a dataframe:\n",
    "        with open(local_fname, 'r') as f:\n",
    "            content = [eval(line) for line in f.readlines()]\n",
    "            results_json = results_json + content\n",
    "    \n",
    "# Build the final dataframes with all the results:\n",
    "results_df = pd.DataFrame(results_json)\n",
    "results_df['timestamp'] = pd.to_datetime(results_df['timestamp'])\n",
    "results_df = results_df.set_index('timestamp')\n",
    "results_df = results_df.sort_index()\n",
    "results_df.head()"
   ]
  },
  {
   "cell_type": "markdown",
   "metadata": {},
   "source": [
    "The content of each JSON lines file follows this format:\n",
    "    \n",
    "```json\n",
    "[\n",
    "    {\n",
    "        'timestamp': '2021-04-07T20:00:00.000000',\n",
    "        'prediction': 1,\n",
    "        'diagnostics': [\n",
    "            {'name': 'centrifugal-pump\\\\Sensor0', 'value': 0.12},\n",
    "            {'name': 'centrifugal-pump\\\\Sensor1', 'value': 0.0},\n",
    "            {'name': 'centrifugal-pump\\\\Sensor2', 'value': 0.0},\n",
    "                                  .\n",
    "                                  .\n",
    "                                  .\n",
    "            {'name': 'centrifugal-pump\\\\Sensor27', 'value': 0.08},\n",
    "            {'name': 'centrifugal-pump\\\\Sensor28', 'value': 0.02},\n",
    "            {'name': 'centrifugal-pump\\\\Sensor29', 'value': 0.02}\n",
    "        ]\n",
    "    }\n",
    "    ...\n",
    "]\n",
    "```\n",
    "Each timestamp found in the file is associated to a prediction: 1 when an anomaly is detected an 0 otherwise. When the `prediction` field is 1 (an anomaly is detected), the `diagnostics` field contains each sensor (with the format `component`\\\\`tag`) and an associated percentage. This percentage corresponds to the magnitude of impact of a given sensor to the detected anomaly. For instance, in the example above, the tag `Sensor0` located on the `centrifugal-pump` component has an estimated 12% magnitude of impact to the anomaly detected at 8pm on April 7th 2021. This dataset has 122 sensors: if each sensor contributed the same way to this event, the impact of each of them would be `100 / 122 = 0.82%`, so 12% is indeed statistically significant."
   ]
  },
  {
   "cell_type": "markdown",
   "metadata": {},
   "source": [
    "### Visualizing the inference results\n",
    "#### Single inference analysis\n",
    "Let's first expand the results to expose the content of the **diagnostics** column above into different dataframe columns:"
   ]
  },
  {
   "cell_type": "code",
   "execution_count": null,
   "metadata": {},
   "outputs": [],
   "source": [
    "expanded_results = []\n",
    "for index, row in results_df.iterrows():\n",
    "    new_row = dict()\n",
    "    new_row.update({'timestamp': index})\n",
    "    new_row.update({'prediction': row['prediction']})\n",
    "    \n",
    "    if row['prediction'] == 1:\n",
    "        diagnostics = pd.DataFrame(row['diagnostics'])\n",
    "        diagnostics = dict(zip(diagnostics['name'], diagnostics['value']))\n",
    "        new_row = {**new_row, **diagnostics}\n",
    "        \n",
    "    expanded_results.append(new_row)\n",
    "    \n",
    "expanded_results = pd.DataFrame(expanded_results)\n",
    "expanded_results['timestamp'] = pd.to_datetime(expanded_results['timestamp'])\n",
    "expanded_results = expanded_results.set_index('timestamp')\n",
    "expanded_results.head()"
   ]
  },
  {
   "cell_type": "markdown",
   "metadata": {},
   "source": [
    "Each detected event have some detailed diagnostics. Let's unpack the details for the first event and plot a similar bar chart than what the console provides when it evaluates a trained model:"
   ]
  },
  {
   "cell_type": "code",
   "execution_count": null,
   "metadata": {},
   "outputs": [],
   "source": [
    "event_details = pd.DataFrame(expanded_results.iloc[0, 1:]).reset_index()\n",
    "event_details.columns = ['name', 'value']\n",
    "event_details = event_details.sort_values(by='value')\n",
    "\n",
    "# We can then plot a horizontal bar chart:\n",
    "y_pos = np.arange(event_details.shape[0])\n",
    "values = list(event_details['value'])\n",
    "\n",
    "fig = plt.figure(figsize=(12,10))\n",
    "ax = plt.subplot(1,1,1)\n",
    "ax.barh(y_pos, event_details['value'], align='center')\n",
    "ax.set_yticks(y_pos)\n",
    "ax.set_yticklabels(event_details['name'])\n",
    "ax.xaxis.set_major_formatter(mtick.PercentFormatter(1.0))\n",
    "\n",
    "# Add the values in each bar:\n",
    "for i, v in enumerate(values):\n",
    "    if v == 0:\n",
    "        ax.text(0.0005, i, f'{v*100:.2f}%', color='#000000', verticalalignment='center')\n",
    "    else:\n",
    "        ax.text(0.0005, i, f'{v*100:.2f}%', color='#FFFFFF', fontweight='bold', verticalalignment='center')\n",
    "    \n",
    "plt.title(f'Event detected at {expanded_results.index[0]}', fontsize=12, fontweight='bold')\n",
    "plt.show()"
   ]
  },
  {
   "cell_type": "markdown",
   "metadata": {},
   "source": [
    "As we did in the previous notebook, the above bar chart is already of great help to pinpoint what might be going wrong with your asset. Let's load the initial tags description file we prepared in the first notebook and match the sensors with our initial components to group sensors by component:"
   ]
  },
  {
   "cell_type": "code",
   "execution_count": null,
   "metadata": {},
   "outputs": [],
   "source": [
    "# Agregate event diagnostics at the component level:\n",
    "tags_description_fname = os.path.join(TMP_DATA, 'tags_description.csv')\n",
    "tags_description_df = pd.read_csv(tags_description_fname)\n",
    "event_details[['asset', 'sensor']] = event_details['name'].str.split('\\\\', expand=True)\n",
    "component_diagnostics = pd.merge(event_details, tags_description_df, how='inner', left_on='sensor', right_on='Tag')[['name', 'value', 'Component']]\n",
    "component_diagnostics = component_diagnostics.groupby(by='Component').sum().sort_values(by='value')\n",
    "\n",
    "# Prepare Y position and values for bar chart:\n",
    "y_pos = np.arange(component_diagnostics.shape[0])\n",
    "values = list(component_diagnostics['value'])\n",
    "\n",
    "# Plot the bar chart:\n",
    "fig = plt.figure(figsize=(12,5))\n",
    "ax = plt.subplot(1,1,1)\n",
    "ax.barh(y_pos, component_diagnostics['value'], align='center')\n",
    "ax.set_yticks(y_pos)\n",
    "ax.set_yticklabels(list(component_diagnostics.index))\n",
    "ax.xaxis.set_major_formatter(mtick.PercentFormatter(1.0))\n",
    "\n",
    "# Add the values in each bar:\n",
    "for i, v in enumerate(values):\n",
    "    ax.text(0.005, i, f'{v*100:.2f}%', color='#FFFFFF', fontweight='bold', verticalalignment='center')\n",
    "    \n",
    "# Show the final plot:\n",
    "plt.show()"
   ]
  },
  {
   "cell_type": "markdown",
   "metadata": {},
   "source": [
    "#### Multiple inferences analysis"
   ]
  },
  {
   "cell_type": "markdown",
   "metadata": {},
   "source": [
    "We can also plot the contribution evolution for the top contributing signals over a period of time: the following graph gives an example of what a real time dashboard could look like to expose the results of an Amazon Lookout for Equipment scheduler.\n",
    "\n",
    "**Note:** The plot stops after a while as there are no more anomaly detected."
   ]
  },
  {
   "cell_type": "code",
   "execution_count": null,
   "metadata": {},
   "outputs": [],
   "source": [
    "df = expanded_results.iloc[:, 1:]\n",
    "mean_contribution = df.mean().sort_values(ascending=False)\n",
    "filtered_sensors = mean_contribution.index.to_list()\n",
    "df = df.loc[:, filtered_sensors]\n",
    "\n",
    "fig = plt.figure(figsize=(16,6))\n",
    "ax = fig.add_subplot(1,1,1)\n",
    "df.plot.area(ax=ax, stacked=False)#, colormap=\"jet\")\n",
    "plt.legend(loc='lower center', ncol=5, bbox_to_anchor=(0.5, -0.45))\n",
    "plt.show()"
   ]
  },
  {
   "cell_type": "markdown",
   "metadata": {},
   "source": [
    "The above plot is quite busy, let's filter on the signals that are, in average, **contributing the most** across this event and focus **only on the time range when something is happening**:"
   ]
  },
  {
   "cell_type": "code",
   "execution_count": null,
   "metadata": {},
   "outputs": [],
   "source": [
    "# Selecting the top 8 signals with the highest contribution to these events (in average):\n",
    "df = expanded_results.iloc[:, 1:].dropna()\n",
    "mean_contribution = df.mean().sort_values(ascending=False)\n",
    "filtered_sensors = mean_contribution[:8].index.to_list()\n",
    "df = df.loc[:, filtered_sensors]\n",
    "\n",
    "# Area plot:\n",
    "fig = plt.figure(figsize=(16,6))\n",
    "ax = fig.add_subplot(1,1,1)\n",
    "df.plot.area(ax=ax, stacked=False)#, colormap=\"jet\")\n",
    "plt.legend(loc='lower center', ncol=4, bbox_to_anchor=(0.5, -0.25))\n",
    "plt.show()"
   ]
  },
  {
   "cell_type": "markdown",
   "metadata": {},
   "source": [
    "**As previously, let's agregate these sensor data at the component level:**"
   ]
  },
  {
   "cell_type": "code",
   "execution_count": null,
   "metadata": {},
   "outputs": [],
   "source": [
    "column_index = pd.MultiIndex.from_frame(tags_description_df[['Component', 'Tag']])\n",
    "components_results = expanded_results.iloc[:, 1:].dropna().copy()\n",
    "components_results.columns = column_index\n",
    "components_results = components_results.groupby(axis=1, level='Component').sum()\n",
    "components_results.columns = list(components_results.columns)\n",
    "components_results.head()"
   ]
  },
  {
   "cell_type": "markdown",
   "metadata": {},
   "source": [
    "It looks like the pump is the first area where an anomaly is visible before each component becomes more balanced in the way they contribute to this detected event. However, the sensors associated to **the pump stays at the very high level** along this particular event which may call to a specific course of action:"
   ]
  },
  {
   "cell_type": "code",
   "execution_count": null,
   "metadata": {},
   "outputs": [],
   "source": [
    "fig = plt.figure(figsize=(16,6))\n",
    "ax = fig.add_subplot(1,1,1)\n",
    "components_results.plot.area(ax=ax, stacked=False, colormap=\"terrain\")\n",
    "plt.legend(loc='lower center', ncol=5, bbox_to_anchor=(0.5, -0.20))\n",
    "plt.show()"
   ]
  },
  {
   "cell_type": "markdown",
   "metadata": {},
   "source": [
    "## (Optional) Inference scheduler operations\n",
    "---\n",
    "### Stop inference scheduler\n",
    "**Be frugal**, running the scheduler is the main cost driver of Amazon Lookout for Equipment. Use the [**StopInferenceScheduler**](https://docs.aws.amazon.com/lookout-for-equipment/latest/ug/API_StopInferenceScheduler.html) API to stop an already running inference scheduler:\n",
    "\n",
    "```python\n",
    "stop_scheduler_response = lookout_client.stop_inference_scheduler(\n",
    "    InferenceSchedulerName=INFERENCE_SCHEDULER_NAME\n",
    ")\n",
    "```\n",
    "\n",
    "The following method is a wrapper around this API call and will stop the periodic inference executions:"
   ]
  },
  {
   "cell_type": "code",
   "execution_count": null,
   "metadata": {},
   "outputs": [],
   "source": [
    "# scheduler.stop()"
   ]
  },
  {
   "cell_type": "markdown",
   "metadata": {},
   "source": [
    "### Start an inference scheduler\n",
    "You can restart any `STOPPED` inference scheduler using the [**StartInferenceScheduler**](https://docs.aws.amazon.com/lookout-for-equipment/latest/ug/API_StartInferenceScheduler.html) API:\n",
    "\n",
    "```python\n",
    "start_scheduler_response = lookout_client.start_inference_scheduler(\n",
    "    InferenceSchedulerName=INFERENCE_SCHEDULER_NAME\n",
    ")\n",
    "```\n",
    "\n",
    "The following method is a wrapper around this API call and will start the periodic inference executions:"
   ]
  },
  {
   "cell_type": "code",
   "execution_count": null,
   "metadata": {},
   "outputs": [],
   "source": [
    "# scheduler.start()"
   ]
  },
  {
   "cell_type": "markdown",
   "metadata": {},
   "source": [
    "### Delete an inference scheduler\n",
    "You can delete a **stopped** scheduler you have no more use of: note that you can only have one scheduler per model.\n",
    "\n",
    "```python\n",
    "delete_scheduler_response = lookout_client.delete_inference_scheduler(\n",
    "    InferenceSchedulerName=INFERENCE_SCHEDULER_NAME\n",
    ")\n",
    "```\n",
    "\n",
    "The `scheduler.delete()` method is a wrapper around the [**DeleteInferenceScheduler**](https://docs.aws.amazon.com/lookout-for-equipment/latest/ug/API_DeleteInferenceScheduler.html) API and will delete a stopped scheduler:"
   ]
  },
  {
   "cell_type": "code",
   "execution_count": null,
   "metadata": {},
   "outputs": [],
   "source": [
    "# scheduler.stop()\n",
    "# scheduler.delete()"
   ]
  },
  {
   "cell_type": "markdown",
   "metadata": {},
   "source": [
    "## Conclusion\n",
    "---"
   ]
  },
  {
   "cell_type": "code",
   "execution_count": null,
   "metadata": {},
   "outputs": [],
   "source": [
    "# Needed for visualizing markdowns programatically\n",
    "from IPython.display import display, Markdown\n",
    "\n",
    "display(Markdown(\n",
    "'''\n",
    "<span style=\"color:green\"><span style=\"font-size:50px\">**Success!**</span></span>\n",
    "<br/>\n",
    "In this notebook, we used the model created in part 3 of this notebook, configured a scheduler and extracted the predictions obtained after it executed a few inferences.\n",
    "\n",
    "We also showed how we could post-process the inference results to deliver better insights into the detected events.\n",
    "'''))"
   ]
  }
 ],
 "metadata": {
  "kernelspec": {
   "display_name": "Python 3",
   "language": "python",
   "name": "python3"
  },
  "language_info": {
   "codemirror_mode": {
    "name": "ipython",
    "version": 3
   },
   "file_extension": ".py",
   "mimetype": "text/x-python",
   "name": "python",
   "nbconvert_exporter": "python",
   "pygments_lexer": "ipython3",
   "version": "3.7.6"
  }
 },
 "nbformat": 4,
 "nbformat_minor": 5
}
